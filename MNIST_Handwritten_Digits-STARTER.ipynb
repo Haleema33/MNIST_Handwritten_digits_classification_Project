{
 "cells": [
  {
   "cell_type": "markdown",
   "metadata": {},
   "source": [
    "# Introduction\n",
    "\n",
    "In this project, you will build a neural network of your own design to evaluate the MNIST dataset.\n",
    "\n",
    "Some of the benchmark results on MNIST include can be found [on Yann LeCun's page](https://webcache.googleusercontent.com/search?q=cache:stAVPik6onEJ:yann.lecun.com/exdb/mnist) and include:\n",
    "\n",
    "88% [Lecun et al., 1998](https://hal.science/hal-03926082/document)\n",
    "\n",
    "95.3% [Lecun et al., 1998](https://hal.science/hal-03926082v1/document)\n",
    "\n",
    "99.65% [Ciresan et al., 2011](http://people.idsia.ch/~juergen/ijcai2011.pdf)\n",
    "\n",
    "\n",
    "MNIST is a great dataset for sanity checking your models, since the accuracy levels achieved by large convolutional neural networks and small linear models are both quite high. This makes it important to be familiar with the data.\n",
    "\n",
    "## Installation"
   ]
  },
  {
   "cell_type": "code",
   "execution_count": 1,
   "metadata": {
    "scrolled": true
   },
   "outputs": [
    {
     "name": "stdout",
     "output_type": "stream",
     "text": [
      "Defaulting to user installation because normal site-packages is not writeable\n",
      "Requirement already satisfied: ipywidgets==8.1.5 in /root/.local/lib/python3.7/site-packages (from -r requirements.txt (line 1)) (8.1.5)\n",
      "Requirement already satisfied: comm>=0.1.3 in /root/.local/lib/python3.7/site-packages (from ipywidgets==8.1.5->-r requirements.txt (line 1)) (0.1.4)\n",
      "Requirement already satisfied: jupyterlab-widgets~=3.0.12 in /root/.local/lib/python3.7/site-packages (from ipywidgets==8.1.5->-r requirements.txt (line 1)) (3.0.15)\n",
      "Requirement already satisfied: widgetsnbextension~=4.0.12 in /root/.local/lib/python3.7/site-packages (from ipywidgets==8.1.5->-r requirements.txt (line 1)) (4.0.14)\n",
      "Requirement already satisfied: ipython>=6.1.0 in /opt/conda/lib/python3.7/site-packages (from ipywidgets==8.1.5->-r requirements.txt (line 1)) (7.13.0)\n",
      "Requirement already satisfied: traitlets>=4.3.1 in /opt/conda/lib/python3.7/site-packages (from ipywidgets==8.1.5->-r requirements.txt (line 1)) (4.3.3)\n",
      "Requirement already satisfied: pexpect; sys_platform != \"win32\" in /opt/conda/lib/python3.7/site-packages (from ipython>=6.1.0->ipywidgets==8.1.5->-r requirements.txt (line 1)) (4.8.0)\n",
      "Requirement already satisfied: jedi>=0.10 in /opt/conda/lib/python3.7/site-packages (from ipython>=6.1.0->ipywidgets==8.1.5->-r requirements.txt (line 1)) (0.16.0)\n",
      "Requirement already satisfied: setuptools>=18.5 in /opt/conda/lib/python3.7/site-packages (from ipython>=6.1.0->ipywidgets==8.1.5->-r requirements.txt (line 1)) (45.2.0.post20200209)\n",
      "Requirement already satisfied: backcall in /opt/conda/lib/python3.7/site-packages (from ipython>=6.1.0->ipywidgets==8.1.5->-r requirements.txt (line 1)) (0.1.0)\n",
      "Requirement already satisfied: pygments in /opt/conda/lib/python3.7/site-packages (from ipython>=6.1.0->ipywidgets==8.1.5->-r requirements.txt (line 1)) (2.5.2)\n",
      "Requirement already satisfied: pickleshare in /opt/conda/lib/python3.7/site-packages (from ipython>=6.1.0->ipywidgets==8.1.5->-r requirements.txt (line 1)) (0.7.5)\n",
      "Requirement already satisfied: prompt-toolkit!=3.0.0,!=3.0.1,<3.1.0,>=2.0.0 in /opt/conda/lib/python3.7/site-packages (from ipython>=6.1.0->ipywidgets==8.1.5->-r requirements.txt (line 1)) (3.0.3)\n",
      "Requirement already satisfied: decorator in /opt/conda/lib/python3.7/site-packages (from ipython>=6.1.0->ipywidgets==8.1.5->-r requirements.txt (line 1)) (4.4.2)\n",
      "Requirement already satisfied: ipython-genutils in /opt/conda/lib/python3.7/site-packages (from traitlets>=4.3.1->ipywidgets==8.1.5->-r requirements.txt (line 1)) (0.2.0)\n",
      "Requirement already satisfied: six in /opt/conda/lib/python3.7/site-packages (from traitlets>=4.3.1->ipywidgets==8.1.5->-r requirements.txt (line 1)) (1.16.0)\n",
      "Requirement already satisfied: ptyprocess>=0.5 in /opt/conda/lib/python3.7/site-packages (from pexpect; sys_platform != \"win32\"->ipython>=6.1.0->ipywidgets==8.1.5->-r requirements.txt (line 1)) (0.6.0)\n",
      "Requirement already satisfied: parso>=0.5.2 in /opt/conda/lib/python3.7/site-packages (from jedi>=0.10->ipython>=6.1.0->ipywidgets==8.1.5->-r requirements.txt (line 1)) (0.6.1)\n",
      "Requirement already satisfied: wcwidth in /opt/conda/lib/python3.7/site-packages (from prompt-toolkit!=3.0.0,!=3.0.1,<3.1.0,>=2.0.0->ipython>=6.1.0->ipywidgets==8.1.5->-r requirements.txt (line 1)) (0.1.8)\n"
     ]
    }
   ],
   "source": [
    "# Restart the Kernel after you execute this command.\n",
    "\n",
    "!python -m pip install -r requirements.txt"
   ]
  },
  {
   "cell_type": "markdown",
   "metadata": {},
   "source": [
    "**Important: Restart the Kernel at this moment**"
   ]
  },
  {
   "cell_type": "markdown",
   "metadata": {},
   "source": [
    "## Imports"
   ]
  },
  {
   "cell_type": "code",
   "execution_count": 1,
   "metadata": {},
   "outputs": [],
   "source": [
    "## This cell contains the essential imports you will need – DO NOT CHANGE THE CONTENTS! ##\n",
    "import torch\n",
    "import torch.nn as nn\n",
    "import torch.nn.functional as F\n",
    "import torch.optim as optim\n",
    "import torchvision\n",
    "import torchvision.transforms as transforms\n",
    "import matplotlib.pyplot as plt\n",
    "import numpy as np\n",
    "from torchvision import datasets, transforms\n",
    "from torch.utils.data import DataLoader\n"
   ]
  },
  {
   "cell_type": "markdown",
   "metadata": {},
   "source": [
    "## Load the Dataset\n",
    "\n",
    "Specify your transforms as a list if you intend to .\n",
    "The transforms module is already loaded as `transforms`.\n",
    "\n",
    "MNIST is fortunately included in the torchvision module.\n",
    "Then, you can create your dataset using the `MNIST` object from `torchvision.datasets` ([the documentation is available here](https://pytorch.org/vision/stable/datasets.html#mnist)).\n",
    "Make sure to specify `download=True`! \n",
    "\n",
    "Once your dataset is created, you'll also need to define a `DataLoader` from the `torch.utils.data` module for both the train and the test set."
   ]
  },
  {
   "cell_type": "code",
   "execution_count": 2,
   "metadata": {
    "scrolled": true
   },
   "outputs": [
    {
     "name": "stderr",
     "output_type": "stream",
     "text": [
      "/opt/conda/lib/python3.7/site-packages/torchvision/datasets/mnist.py:498: UserWarning: The given NumPy array is not writable, and PyTorch does not support non-writable tensors. This means writing to this tensor will result in undefined behavior. You may want to copy the array to protect its data or make it writable before converting it to a tensor. This type of warning will be suppressed for the rest of this program. (Triggered internally at  ../torch/csrc/utils/tensor_numpy.cpp:178.)\n",
      "  return torch.from_numpy(parsed.astype(m[2], copy=False)).view(*s)\n"
     ]
    }
   ],
   "source": [
    "# Define transforms\n",
    "## YOUR CODE HERE ##\n",
    "# 1) Define a simple transform\n",
    "# 1) Define transforms\n",
    "mnist_mean = (0.1307,)\n",
    "mnist_std  = (0.3081,)\n",
    "\n",
    "transform = transforms.Compose([\n",
    "    transforms.ToTensor(),\n",
    "    transforms.Normalize(mnist_mean, mnist_std)\n",
    "])\n",
    "\n",
    "# 2) Create training set and dataloader\n",
    "train_dataset = datasets.MNIST(root=\"./data\", train=True, download=True, transform=transform)\n",
    "train_loader = DataLoader(train_dataset, batch_size=64, shuffle=True)\n",
    "\n",
    "# 3) Create test set and dataloader\n",
    "test_dataset = datasets.MNIST(root=\"./data\", train=False, download=True, transform=transform)\n",
    "test_loader = DataLoader(test_dataset, batch_size=64, shuffle=False)"
   ]
  },
  {
   "cell_type": "markdown",
   "metadata": {},
   "source": [
    "## Justify your preprocessing\n",
    "\n",
    "In your own words, why did you choose the transforms you chose? If you didn't use any preprocessing steps, why not?"
   ]
  },
  {
   "cell_type": "markdown",
   "metadata": {},
   "source": [
    "## I chose the following preprocessing steps:\n",
    "\n",
    "1. ToTensor() – This converts the MNIST images from PIL format (0–255 integers) to PyTorch tensors with values scaled between 0 and 1. This is necessary because PyTorch models expect inputs as tensors, not images.\n",
    "\n",
    "2. Normalize(mean=0.1307, std=0.3081) – This scales the data so that the pixel values have a mean of 0 and a standard deviation of 1. Normalization helps the neural network train faster and more stably, because the inputs are centered and have consistent scale across all features.\n",
    "\n",
    "ToTensor() is enough for visualization and basic network input.\n",
    "I didn’t include other preprocessing steps like data augmentation because MNIST digits are already standardized and simple. "
   ]
  },
  {
   "cell_type": "markdown",
   "metadata": {},
   "source": [
    "## Explore the Dataset\n",
    "Using matplotlib, numpy, and torch, explore the dimensions of your data.\n",
    "\n",
    "You can view images using the `show5` function defined below – it takes a data loader as an argument.\n",
    "Remember that normalized images will look really weird to you! You may want to try changing your transforms to view images.\n",
    "Typically using no transforms other than `toTensor()` works well for viewing – but not as well for training your network.\n",
    "If `show5` doesn't work, go back and check your code for creating your data loaders and your training/test sets."
   ]
  },
  {
   "cell_type": "code",
   "execution_count": 3,
   "metadata": {},
   "outputs": [],
   "source": [
    "## This cell contains a function for showing 5 images from a dataloader – DO NOT CHANGE THE CONTENTS! ##\n",
    "def show5(img_loader):\n",
    "    dataiter = iter(img_loader)\n",
    "    \n",
    "    batch = next(dataiter)\n",
    "    labels = batch[1][0:5]\n",
    "    images = batch[0][0:5]\n",
    "    for i in range(5):\n",
    "        print(int(labels[i].detach()))\n",
    "    \n",
    "        image = images[i].numpy()\n",
    "        plt.imshow(image.T.squeeze().T)\n",
    "        plt.show()"
   ]
  },
  {
   "cell_type": "code",
   "execution_count": 4,
   "metadata": {},
   "outputs": [
    {
     "name": "stdout",
     "output_type": "stream",
     "text": [
      "Showing 5 raw training images:\n",
      "6\n"
     ]
    },
    {
     "data": {
      "image/png": "[encoded data removed]",
      "text/plain": [
       "<Figure size 432x288 with 1 Axes>"
      ]
     },
     "metadata": {
      "needs_background": "light"
     },
     "output_type": "display_data"
    },
    {
     "name": "stdout",
     "output_type": "stream",
     "text": [
      "5\n"
     ]
    },
    {
     "data": {
      "image/png": "[encoded data removed]",
      "text/plain": [
       "<Figure size 432x288 with 1 Axes>"
      ]
     },
     "metadata": {
      "needs_background": "light"
     },
     "output_type": "display_data"
    },
    {
     "name": "stdout",
     "output_type": "stream",
     "text": [
      "7\n"
     ]
    },
    {
     "data": {
      "image/png": "[encoded data removed]",
      "text/plain": [
       "<Figure size 432x288 with 1 Axes>"
      ]
     },
     "metadata": {
      "needs_background": "light"
     },
     "output_type": "display_data"
    },
    {
     "name": "stdout",
     "output_type": "stream",
     "text": [
      "7\n"
     ]
    },
    {
     "data": {
      "image/png": "[encoded data removed]",
      "text/plain": [
       "<Figure size 432x288 with 1 Axes>"
      ]
     },
     "metadata": {
      "needs_background": "light"
     },
     "output_type": "display_data"
    },
    {
     "name": "stdout",
     "output_type": "stream",
     "text": [
      "0\n"
     ]
    },
    {
     "data": {
      "image/png": "[encoded data removed]",
      "text/plain": [
       "<Figure size 432x288 with 1 Axes>"
      ]
     },
     "metadata": {
      "needs_background": "light"
     },
     "output_type": "display_data"
    },
    {
     "name": "stdout",
     "output_type": "stream",
     "text": [
      "Showing 5 raw test images:\n",
      "7\n"
     ]
    },
    {
     "data": {
      "image/png": "[encoded data removed]",
      "text/plain": [
       "<Figure size 432x288 with 1 Axes>"
      ]
     },
     "metadata": {
      "needs_background": "light"
     },
     "output_type": "display_data"
    },
    {
     "name": "stdout",
     "output_type": "stream",
     "text": [
      "2\n"
     ]
    },
    {
     "data": {
      "image/png": "[encoded data removed]",
      "text/plain": [
       "<Figure size 432x288 with 1 Axes>"
      ]
     },
     "metadata": {
      "needs_background": "light"
     },
     "output_type": "display_data"
    },
    {
     "name": "stdout",
     "output_type": "stream",
     "text": [
      "1\n"
     ]
    },
    {
     "data": {
      "image/png": "[encoded data removed]",
      "text/plain": [
       "<Figure size 432x288 with 1 Axes>"
      ]
     },
     "metadata": {
      "needs_background": "light"
     },
     "output_type": "display_data"
    },
    {
     "name": "stdout",
     "output_type": "stream",
     "text": [
      "0\n"
     ]
    },
    {
     "data": {
      "image/png": "[encoded data removed]",
      "text/plain": [
       "<Figure size 432x288 with 1 Axes>"
      ]
     },
     "metadata": {
      "needs_background": "light"
     },
     "output_type": "display_data"
    },
    {
     "name": "stdout",
     "output_type": "stream",
     "text": [
      "4\n"
     ]
    },
    {
     "data": {
      "image/png": "[encoded data removed]",
      "text/plain": [
       "<Figure size 432x288 with 1 Axes>"
      ]
     },
     "metadata": {
      "needs_background": "light"
     },
     "output_type": "display_data"
    },
    {
     "name": "stdout",
     "output_type": "stream",
     "text": [
      "Batch shape: torch.Size([64, 1, 28, 28])\n",
      "Labels shape: torch.Size([64])\n"
     ]
    }
   ],
   "source": [
    "# Explore data\n",
    "## YOUR CODE HERE ##\n",
    "print(\"Showing 5 raw training images:\")\n",
    "show5(train_loader)\n",
    "\n",
    "print(\"Showing 5 raw test images:\")\n",
    "show5(test_loader)\n",
    "\n",
    "#Check the shapes of the data\n",
    "dataiter = iter(train_loader)\n",
    "images, labels = next(dataiter)\n",
    "print(\"Batch shape:\", images.shape)   # e.g., (64,1,28,28)\n",
    "print(\"Labels shape:\", labels.shape)   # e.g., (64,)\n"
   ]
  },
  {
   "cell_type": "markdown",
   "metadata": {},
   "source": [
    "## Build your Neural Network\n",
    "Using the layers in `torch.nn` (which has been imported as `nn`) and the `torch.nn.functional` module (imported as `F`), construct a neural network based on the parameters of the dataset.\n",
    "Use any architecture you like. \n",
    "\n",
    "*Note*: If you did not flatten your tensors in your transforms or as part of your preprocessing and you are using only `Linear` layers, make sure to use the `Flatten` layer in your network!"
   ]
  },
  {
   "cell_type": "code",
   "execution_count": 5,
   "metadata": {},
   "outputs": [
    {
     "name": "stdout",
     "output_type": "stream",
     "text": [
      "SimpleMLP(\n",
      "  (flatten): Flatten(start_dim=1, end_dim=-1)\n",
      "  (fc1): Linear(in_features=784, out_features=256, bias=True)\n",
      "  (fc2): Linear(in_features=256, out_features=128, bias=True)\n",
      "  (fc3): Linear(in_features=128, out_features=10, bias=True)\n",
      "  (dropout): Dropout(p=0.2, inplace=False)\n",
      ")\n"
     ]
    }
   ],
   "source": [
    "#As I already preprocess my data in (3 cell), I don't need to do it again. Just flatten it.\n",
    "\n",
    "## YOUR CODE HERE ##\n",
    "class SimpleMLP(nn.Module):\n",
    "    def __init__(self, input_size=28*28, hidden1=256, hidden2=128, num_classes=10):\n",
    "        super(SimpleMLP, self).__init__()\n",
    "        \n",
    "        # Flatten layer converts (batch, 1, 28, 28) -> (batch, 784)\n",
    "        self.flatten = nn.Flatten()\n",
    "        \n",
    "        # Fully connected layers\n",
    "        self.fc1 = nn.Linear(input_size, hidden1)\n",
    "        self.fc2 = nn.Linear(hidden1, hidden2)\n",
    "        self.fc3 = nn.Linear(hidden2, num_classes)\n",
    "        \n",
    "        # Optional dropout\n",
    "        self.dropout = nn.Dropout(0.2)\n",
    "        \n",
    "    def forward(self, x):\n",
    "        x = self.flatten(x)         # flatten if not already flattened\n",
    "        x = F.relu(self.fc1(x))     # hidden layer 1 + ReLU\n",
    "        x = self.dropout(x)          # dropout\n",
    "        x = F.relu(self.fc2(x))     # hidden layer 2 + ReLU\n",
    "        x = self.dropout(x)\n",
    "        x = self.fc3(x)             # output layer (logits)\n",
    "        return x\n",
    "\n",
    "# Instantiate the network\n",
    "net = SimpleMLP()\n",
    "print(net)\n"
   ]
  },
  {
   "cell_type": "markdown",
   "metadata": {},
   "source": [
    "Specify a loss function and an optimizer, and instantiate the model.\n",
    "\n",
    "If you use a less common loss function, please note why you chose that loss function in a comment."
   ]
  },
  {
   "cell_type": "code",
   "execution_count": 6,
   "metadata": {},
   "outputs": [],
   "source": [
    "## YOUR CODE HERE ##\n",
    "# CrossEntropyLoss is suitable for multi-class classification problems like MNIST\n",
    "criterion = nn.CrossEntropyLoss()  \n",
    "\n",
    "# Adam optimizer is popular for fast convergence\n",
    "optimizer = optim.Adam(net.parameters(), lr=0.001)\n",
    "\n",
    "# CrossEntropyLoss combines LogSoftmax + NLLLoss, making it ideal for multi-class problems.\n",
    "# Adam adapts learning rates for each parameter and often works well out-of-the-box.\n"
   ]
  },
  {
   "cell_type": "markdown",
   "metadata": {},
   "source": [
    "## Running your Neural Network\n",
    "Use whatever method you like to train your neural network, and ensure you record the average loss at each epoch. \n",
    "Don't forget to use `torch.device()` and the `.to()` method for both your model and your data if you are using GPU!\n",
    "\n",
    "If you want to print your loss **during** each epoch, you can use the `enumerate` function and print the loss after a set number of batches. 250 batches works well for most people!"
   ]
  },
  {
   "cell_type": "code",
   "execution_count": 7,
   "metadata": {},
   "outputs": [
    {
     "name": "stdout",
     "output_type": "stream",
     "text": [
      "Epoch [1/10], Batch [250], Loss: 0.4729\n",
      "Epoch [1/10], Batch [500], Loss: 0.2426\n",
      "Epoch [1/10], Batch [750], Loss: 0.1842\n",
      "Epoch [1/10], Validation Loss: 0.1208, Accuracy: 96.46%\n",
      "\n",
      "Epoch [2/10], Batch [250], Loss: 0.1388\n",
      "Epoch [2/10], Batch [500], Loss: 0.1364\n",
      "Epoch [2/10], Batch [750], Loss: 0.1344\n",
      "Epoch [2/10], Validation Loss: 0.0886, Accuracy: 97.12%\n",
      "\n",
      "Epoch [3/10], Batch [250], Loss: 0.0950\n",
      "Epoch [3/10], Batch [500], Loss: 0.1135\n",
      "Epoch [3/10], Batch [750], Loss: 0.0942\n",
      "Epoch [3/10], Validation Loss: 0.0768, Accuracy: 97.62%\n",
      "\n",
      "Epoch [4/10], Batch [250], Loss: 0.0820\n",
      "Epoch [4/10], Batch [500], Loss: 0.0851\n",
      "Epoch [4/10], Batch [750], Loss: 0.0829\n",
      "Epoch [4/10], Validation Loss: 0.0794, Accuracy: 97.58%\n",
      "\n",
      "Epoch [5/10], Batch [250], Loss: 0.0707\n",
      "Epoch [5/10], Batch [500], Loss: 0.0686\n",
      "Epoch [5/10], Batch [750], Loss: 0.0751\n",
      "Epoch [5/10], Validation Loss: 0.0701, Accuracy: 97.89%\n",
      "\n",
      "Epoch [6/10], Batch [250], Loss: 0.0603\n",
      "Epoch [6/10], Batch [500], Loss: 0.0683\n",
      "Epoch [6/10], Batch [750], Loss: 0.0653\n",
      "Epoch [6/10], Validation Loss: 0.0642, Accuracy: 98.07%\n",
      "\n",
      "Epoch [7/10], Batch [250], Loss: 0.0517\n",
      "Epoch [7/10], Batch [500], Loss: 0.0644\n",
      "Epoch [7/10], Batch [750], Loss: 0.0592\n",
      "Epoch [7/10], Validation Loss: 0.0742, Accuracy: 97.97%\n",
      "\n",
      "Epoch [8/10], Batch [250], Loss: 0.0499\n",
      "Epoch [8/10], Batch [500], Loss: 0.0526\n",
      "Epoch [8/10], Batch [750], Loss: 0.0574\n",
      "Epoch [8/10], Validation Loss: 0.0746, Accuracy: 97.66%\n",
      "\n",
      "Epoch [9/10], Batch [250], Loss: 0.0446\n",
      "Epoch [9/10], Batch [500], Loss: 0.0555\n",
      "Epoch [9/10], Batch [750], Loss: 0.0477\n",
      "Epoch [9/10], Validation Loss: 0.0736, Accuracy: 98.03%\n",
      "\n",
      "Epoch [10/10], Batch [250], Loss: 0.0421\n",
      "Epoch [10/10], Batch [500], Loss: 0.0494\n",
      "Epoch [10/10], Batch [750], Loss: 0.0472\n",
      "Epoch [10/10], Validation Loss: 0.0715, Accuracy: 98.08%\n",
      "\n"
     ]
    }
   ],
   "source": [
    "## YOUR CODE HERE ##\n",
    "num_epochs = 10\n",
    "device = torch.device(\"cuda\" if torch.cuda.is_available() else \"cpu\")\n",
    "\n",
    "# Move model to GPU if available\n",
    "net = net.to(device)\n",
    "\n",
    "# Lists to record loss per epoch\n",
    "train_loss_history = []\n",
    "val_loss_history = []\n",
    "\n",
    "for epoch in range(num_epochs):\n",
    "    # ---- Training ----\n",
    "    net.train()\n",
    "    running_train_loss = 0.0\n",
    "    \n",
    "    for batch_idx, (inputs, labels) in enumerate(train_loader):\n",
    "        # Move inputs and labels to device (GPU or CPU)\n",
    "        inputs, labels = inputs.to(device), labels.to(device)\n",
    "        \n",
    "        optimizer.zero_grad()\n",
    "        outputs = net(inputs)\n",
    "        loss = criterion(outputs, labels)\n",
    "        loss.backward()\n",
    "        optimizer.step()\n",
    "        \n",
    "        running_train_loss += loss.item()\n",
    "        \n",
    "        if (batch_idx + 1) % 250 == 0:\n",
    "            print(f'Epoch [{epoch+1}/{num_epochs}], Batch [{batch_idx+1}], Loss: {running_train_loss/250:.4f}')\n",
    "            running_train_loss = 0.0\n",
    "    \n",
    "    # Average training loss for this epoch\n",
    "    train_loss_history.append(running_train_loss / len(train_loader))\n",
    "    \n",
    "    # ---- Validation ----\n",
    "    net.eval()  # set model to evaluation mode (turns off dropout, batchnorm)\n",
    "    running_val_loss = 0.0\n",
    "    correct = 0\n",
    "    total = 0\n",
    "    \n",
    "    with torch.no_grad():  # no need to compute gradients\n",
    "        for inputs, labels in test_loader:\n",
    "            inputs, labels = inputs.to(device), labels.to(device)\n",
    "            outputs = net(inputs)\n",
    "            loss = criterion(outputs, labels)\n",
    "            running_val_loss += loss.item()\n",
    "            \n",
    "            # Compute accuracy\n",
    "            _, predicted = torch.max(outputs.data, 1)\n",
    "            total += labels.size(0)\n",
    "            correct += (predicted == labels).sum().item()\n",
    "    \n",
    "    val_loss = running_val_loss / len(test_loader)\n",
    "    val_loss_history.append(val_loss)\n",
    "    val_accuracy = 100 * correct / total\n",
    "    \n",
    "    print(f'Epoch [{epoch+1}/{num_epochs}], Validation Loss: {val_loss:.4f}, Accuracy: {val_accuracy:.2f}%\\n')\n"
   ]
  },
  {
   "cell_type": "markdown",
   "metadata": {},
   "source": [
    "Plot the training loss (and validation loss/accuracy, if recorded)."
   ]
  },
  {
   "cell_type": "code",
   "execution_count": 8,
   "metadata": {},
   "outputs": [
    {
     "data": {
      "image/png": "[encoded data removed]",
      "text/plain": [
       "<Figure size 720x360 with 1 Axes>"
      ]
     },
     "metadata": {
      "needs_background": "light"
     },
     "output_type": "display_data"
    }
   ],
   "source": [
    "## YOUR CODE HERE ##\n",
    "epochs = range(1, num_epochs + 1)\n",
    "\n",
    "# Plot training and validation loss\n",
    "plt.figure(figsize=(10,5))\n",
    "plt.plot(epochs, train_loss_history, label='Training Loss', marker='o')\n",
    "plt.plot(epochs, val_loss_history, label='Validation Loss', marker='o')\n",
    "plt.xlabel('Epoch')\n",
    "plt.ylabel('Loss')\n",
    "plt.title('Training vs Validation Loss')\n",
    "plt.legend()\n",
    "plt.grid(True)\n",
    "plt.show()"
   ]
  },
  {
   "cell_type": "markdown",
   "metadata": {},
   "source": [
    "## Testing your model\n",
    "Using the previously created `DataLoader` for the test set, compute the percentage of correct predictions using the highest probability prediction. \n",
    "\n",
    "If your accuracy is over 90%, great work, but see if you can push a bit further! \n",
    "If your accuracy is under 90%, you'll need to make improvements.\n",
    "Go back and check your model architecture, loss function, and optimizer to make sure they're appropriate for an image classification task."
   ]
  },
  {
   "cell_type": "code",
   "execution_count": 10,
   "metadata": {},
   "outputs": [
    {
     "name": "stdout",
     "output_type": "stream",
     "text": [
      "Test Accuracy: 98.08%\n"
     ]
    }
   ],
   "source": [
    "## YOUR CODE HERE ##\n",
    "#Set model to evaluation mode\n",
    "net.eval()  \n",
    "\n",
    "correct = 0\n",
    "total = 0\n",
    "\n",
    "with torch.no_grad():  # no gradient computation needed\n",
    "    for inputs, labels in test_loader:\n",
    "        # Move data to the same device as model\n",
    "        inputs, labels = inputs.to(device), labels.to(device)\n",
    "        \n",
    "        # Forward pass\n",
    "        outputs = net(inputs)\n",
    "        \n",
    "        # Get predicted class (highest probability)\n",
    "        _, predicted = torch.max(outputs.data, 1)\n",
    "        \n",
    "        # Count correct predictions\n",
    "        total += labels.size(0)\n",
    "        correct += (predicted == labels).sum().item()\n",
    "\n",
    "# Compute accuracy\n",
    "test_accuracy = 100 * correct / total\n",
    "print(f'Test Accuracy: {test_accuracy:.2f}%')"
   ]
  },
  {
   "cell_type": "markdown",
   "metadata": {},
   "source": [
    "## Improving your model\n",
    "\n",
    "Once your model is done training, try tweaking your hyperparameters and training again below to improve your accuracy on the test set!"
   ]
  },
  {
   "cell_type": "code",
   "execution_count": 12,
   "metadata": {},
   "outputs": [
    {
     "name": "stdout",
     "output_type": "stream",
     "text": [
      "Epoch [1/15], Batch [250], Loss: 0.4402\n",
      "Epoch [1/15], Validation Loss: 0.1346, Accuracy: 95.87%\n",
      "\n",
      "Epoch [2/15], Batch [250], Loss: 0.1463\n",
      "Epoch [2/15], Validation Loss: 0.0899, Accuracy: 97.08%\n",
      "\n",
      "Epoch [3/15], Batch [250], Loss: 0.1016\n",
      "Epoch [3/15], Validation Loss: 0.0765, Accuracy: 97.45%\n",
      "\n",
      "Epoch [4/15], Batch [250], Loss: 0.0799\n",
      "Epoch [4/15], Validation Loss: 0.0700, Accuracy: 97.83%\n",
      "\n",
      "Epoch [5/15], Batch [250], Loss: 0.0691\n",
      "Epoch [5/15], Validation Loss: 0.0619, Accuracy: 98.19%\n",
      "\n",
      "Epoch [6/15], Batch [250], Loss: 0.0553\n",
      "Epoch [6/15], Validation Loss: 0.0596, Accuracy: 98.24%\n",
      "\n",
      "Epoch [7/15], Batch [250], Loss: 0.0487\n",
      "Epoch [7/15], Validation Loss: 0.0583, Accuracy: 98.20%\n",
      "\n",
      "Epoch [8/15], Batch [250], Loss: 0.0431\n",
      "Epoch [8/15], Validation Loss: 0.0581, Accuracy: 98.23%\n",
      "\n",
      "Epoch [9/15], Batch [250], Loss: 0.0363\n",
      "Epoch [9/15], Validation Loss: 0.0616, Accuracy: 98.20%\n",
      "\n",
      "Epoch [10/15], Batch [250], Loss: 0.0302\n",
      "Epoch [10/15], Validation Loss: 0.0550, Accuracy: 98.38%\n",
      "\n",
      "Epoch [11/15], Batch [250], Loss: 0.0320\n",
      "Epoch [11/15], Validation Loss: 0.0576, Accuracy: 98.24%\n",
      "\n",
      "Epoch [12/15], Batch [250], Loss: 0.0322\n",
      "Epoch [12/15], Validation Loss: 0.0575, Accuracy: 98.43%\n",
      "\n",
      "Epoch [13/15], Batch [250], Loss: 0.0243\n",
      "Epoch [13/15], Validation Loss: 0.0631, Accuracy: 98.36%\n",
      "\n",
      "Epoch [14/15], Batch [250], Loss: 0.0246\n",
      "Epoch [14/15], Validation Loss: 0.0566, Accuracy: 98.38%\n",
      "\n",
      "Epoch [15/15], Batch [250], Loss: 0.0248\n",
      "Epoch [15/15], Validation Loss: 0.0667, Accuracy: 98.16%\n",
      "\n"
     ]
    }
   ],
   "source": [
    "## YOUR CODE HERE ##\n",
    "# --- Hyperparameter tweaks ---\n",
    "num_epochs = 15           # increased epochs\n",
    "batch_size = 128          # larger batch size\n",
    "learning_rate = 0.0005    # smaller learning rate\n",
    "hidden1 = 512             # more neurons in first layer\n",
    "hidden2 = 256             # more neurons in second layer\n",
    "dropout_rate = 0.3        # increased dropout\n",
    "\n",
    "# 1) Update DataLoader with new batch size\n",
    "train_loader = DataLoader(train_dataset, batch_size=batch_size, shuffle=True)\n",
    "test_loader = DataLoader(test_dataset, batch_size=batch_size, shuffle=False)\n",
    "\n",
    "# 2) Instantiate the model with updated hidden layers/dropout\n",
    "class TweakedMLP(nn.Module):\n",
    "    def __init__(self, input_size=28*28, hidden1=hidden1, hidden2=hidden2, num_classes=10):\n",
    "        super(TweakedMLP, self).__init__()\n",
    "        self.flatten = nn.Flatten()\n",
    "        self.fc1 = nn.Linear(input_size, hidden1)\n",
    "        self.fc2 = nn.Linear(hidden1, hidden2)\n",
    "        self.fc3 = nn.Linear(hidden2, num_classes)\n",
    "        self.dropout = nn.Dropout(dropout_rate)\n",
    "        \n",
    "    def forward(self, x):\n",
    "        x = self.flatten(x)\n",
    "        x = F.relu(self.fc1(x))\n",
    "        x = self.dropout(x)\n",
    "        x = F.relu(self.fc2(x))\n",
    "        x = self.dropout(x)\n",
    "        x = self.fc3(x)\n",
    "        return x\n",
    "\n",
    "\n",
    "\n",
    "train_loss_history = []\n",
    "val_loss_history = []\n",
    "\n",
    "for epoch in range(num_epochs):\n",
    "    # ---- Training ----\n",
    "    net.train()\n",
    "    running_train_loss = 0.0\n",
    "    \n",
    "    for batch_idx, (inputs, labels) in enumerate(train_loader):\n",
    "        inputs, labels = inputs.to(device), labels.to(device)\n",
    "        optimizer.zero_grad()\n",
    "        outputs = net(inputs)\n",
    "        loss = criterion(outputs, labels)\n",
    "        loss.backward()\n",
    "        optimizer.step()\n",
    "        running_train_loss += loss.item()\n",
    "        \n",
    "        if (batch_idx + 1) % 250 == 0:\n",
    "            print(f'Epoch [{epoch+1}/{num_epochs}], Batch [{batch_idx+1}], Loss: {running_train_loss/250:.4f}')\n",
    "            running_train_loss = 0.0\n",
    "    \n",
    "    train_loss_history.append(running_train_loss / len(train_loader))\n",
    "    \n",
    "    # ---- Validation ----\n",
    "    net.eval()\n",
    "    running_val_loss = 0.0\n",
    "    correct = 0\n",
    "    total = 0\n",
    "    with torch.no_grad():\n",
    "        for inputs, labels in test_loader:\n",
    "            inputs, labels = inputs.to(device), labels.to(device)\n",
    "            outputs = net(inputs)\n",
    "            loss = criterion(outputs, labels)\n",
    "            running_val_loss += loss.item()\n",
    "            _, predicted = torch.max(outputs.data, 1)\n",
    "            total += labels.size(0)\n",
    "            correct += (predicted == labels).sum().item()\n",
    "    \n",
    "    val_loss = running_val_loss / len(test_loader)\n",
    "    val_loss_history.append(val_loss)\n",
    "    val_accuracy = 100 * correct / total\n",
    "    \n",
    "    print(f'Epoch [{epoch+1}/{num_epochs}], Validation Loss: {val_loss:.4f}, Accuracy: {val_accuracy:.2f}%\\n')\n",
    "\n",
    "net = TweakedMLP().to(device)\n",
    "    \n",
    "# 3) Define optimizer and loss\n",
    "optimizer = optim.Adam(net.parameters(), lr=learning_rate)\n",
    "criterion = nn.CrossEntropyLoss()\n",
    "\n",
    "# 4) Re-run the training loop (same as before)\n",
    "# You can reuse the training + validation loop from earlier\n"
   ]
  },
  {
   "cell_type": "markdown",
   "metadata": {},
   "source": [
    "## Saving your model\n",
    "Using `torch.save`, save your model for future loading."
   ]
  },
  {
   "cell_type": "code",
   "execution_count": 13,
   "metadata": {},
   "outputs": [],
   "source": [
    "## YOUR CODE HERE ##\n",
    "torch.save(net, \"mnist_model_full.pth\")\n"
   ]
  },
  {
   "cell_type": "code",
   "execution_count": 14,
   "metadata": {},
   "outputs": [
    {
     "data": {
      "text/plain": [
       "TweakedMLP(\n",
       "  (flatten): Flatten(start_dim=1, end_dim=-1)\n",
       "  (fc1): Linear(in_features=784, out_features=512, bias=True)\n",
       "  (fc2): Linear(in_features=512, out_features=256, bias=True)\n",
       "  (fc3): Linear(in_features=256, out_features=10, bias=True)\n",
       "  (dropout): Dropout(p=0.3, inplace=False)\n",
       ")"
      ]
     },
     "execution_count": 14,
     "metadata": {},
     "output_type": "execute_result"
    }
   ],
   "source": [
    "#EXTRA\n",
    "#to load the model which we saved early on\n",
    "loaded_model = torch.load(\"mnist_model_full.pth\")\n",
    "loaded_model.eval()  # set to evaluation mode\n"
   ]
  },
  {
   "cell_type": "code",
   "execution_count": null,
   "metadata": {},
   "outputs": [],
   "source": []
  }
 ],
 "metadata": {
  "kernelspec": {
   "display_name": "Python 3",
   "language": "python",
   "name": "python3"
  },
  "language_info": {
   "codemirror_mode": {
    "name": "ipython",
    "version": 3
   },
   "file_extension": ".py",
   "mimetype": "text/x-python",
   "name": "python",
   "nbconvert_exporter": "python",
   "pygments_lexer": "ipython3",
   "version": "3.7.6"
  }
 },
 "nbformat": 4,
 "nbformat_minor": 4
}
